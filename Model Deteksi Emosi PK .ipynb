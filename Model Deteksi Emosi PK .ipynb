{
 "cells": [
  {
   "cell_type": "code",
   "execution_count": 5,
   "metadata": {
    "execution": {
     "iopub.execute_input": "2022-05-30T13:28:14.342596Z",
     "iopub.status.busy": "2022-05-30T13:28:14.342210Z",
     "iopub.status.idle": "2022-05-30T13:28:14.352717Z",
     "shell.execute_reply": "2022-05-30T13:28:14.351834Z",
     "shell.execute_reply.started": "2022-05-30T13:28:14.342562Z"
    }
   },
   "outputs": [],
   "source": [
    "import tensorflow as tf\n",
    "import matplotlib.pyplot as plt\n",
    "\n",
    "from tensorflow.keras.preprocessing.image import ImageDataGenerator\n",
    "from tensorflow.keras.layers import Dense, Flatten, Dropout,BatchNormalization ,Activation\n",
    "from tensorflow.keras.models import Model, Sequential\n",
    "from tensorflow.keras.callbacks import ReduceLROnPlateau, ModelCheckpoint, EarlyStopping\n",
    "from tensorflow.keras.optimizers import Adam\n",
    "from tensorflow.keras.utils import plot_model\n",
    "from tensorflow.keras import optimizers\n",
    "from tensorflow.keras.layers import Flatten, Dense, Conv2D, MaxPooling2D\n",
    "from collections import Counter\n",
    "from IPython.display import Image"
   ]
  },
  {
   "cell_type": "code",
   "execution_count": 7,
   "metadata": {
    "execution": {
     "iopub.execute_input": "2022-05-30T13:28:14.463941Z",
     "iopub.status.busy": "2022-05-30T13:28:14.462791Z",
     "iopub.status.idle": "2022-05-30T13:28:14.472353Z",
     "shell.execute_reply": "2022-05-30T13:28:14.471237Z",
     "shell.execute_reply.started": "2022-05-30T13:28:14.463892Z"
    }
   },
   "outputs": [],
   "source": [
    "def ImgDataGen():\n",
    "    \n",
    "    train_datagen = ImageDataGenerator(rescale = 1./255,\n",
    "                                   validation_split = 0.2,\n",
    "                                   rotation_range=0.3,\n",
    "                                   width_shift_range=0.2,\n",
    "                                   height_shift_range=0.2,\n",
    "                                   shear_range=0.2,\n",
    "                                   horizontal_flip=True,\n",
    "                                   vertical_flip=False,\n",
    "                                   fill_mode='nearest')\n",
    "\n",
    "    valid_datagen = ImageDataGenerator(rescale = 1./255,\n",
    "                                  validation_split = 0.2\n",
    "                                  )\n",
    "\n",
    "    test_datagen  = ImageDataGenerator(rescale = 1./255)\n",
    "\n",
    "\n",
    "    return train_datagen, test_datagen, valid_datagen"
   ]
  },
  {
   "cell_type": "code",
   "execution_count": 8,
   "metadata": {
    "execution": {
     "iopub.execute_input": "2022-05-30T13:28:14.492975Z",
     "iopub.status.busy": "2022-05-30T13:28:14.492277Z",
     "iopub.status.idle": "2022-05-30T13:28:14.502594Z",
     "shell.execute_reply": "2022-05-30T13:28:14.501484Z",
     "shell.execute_reply.started": "2022-05-30T13:28:14.492938Z"
    }
   },
   "outputs": [],
   "source": [
    "def DataSetGen(train, test, train_datagen, valid_datagen, test_datagen, classes_):\n",
    "    \n",
    "    train_dataset  = train_datagen.flow_from_directory(directory = 'C:/Users/RonN/Project PK/buat laporan/datasetplus/train',\n",
    "                                                   target_size = (48,48),\n",
    "                                                   class_mode = 'categorical',\n",
    "                                                   classes=classes_,\n",
    "                                                   subset = 'training',\n",
    "                                                   batch_size = 64)\n",
    "\n",
    "    valid_dataset = train_datagen.flow_from_directory(directory = 'C:/Users/RonN/Project PK/buat laporan/datasetplus/train',\n",
    "                                                  target_size = (48,48),\n",
    "                                                  class_mode = 'categorical',\n",
    "                                                  classes=classes_,\n",
    "                                                  subset = 'validation',\n",
    "                                                  batch_size = 64)\n",
    "\n",
    "\n",
    "    test_dataset = test_datagen.flow_from_directory(directory = 'C:/Users/RonN/Project PK/buat laporan/datasetplus/train',\n",
    "                                                  target_size = (48,48),\n",
    "                                                  class_mode = 'categorical',\n",
    "                                                  classes=classes_,\n",
    "                                                  batch_size = 64)\n",
    "\n",
    "\n",
    "    return train_dataset, valid_dataset, test_dataset"
   ]
  },
  {
   "cell_type": "code",
   "execution_count": 10,
   "metadata": {
    "execution": {
     "iopub.execute_input": "2022-05-30T13:28:14.572445Z",
     "iopub.status.busy": "2022-05-30T13:28:14.571497Z",
     "iopub.status.idle": "2022-05-30T13:28:14.580105Z",
     "shell.execute_reply": "2022-05-30T13:28:14.578761Z",
     "shell.execute_reply.started": "2022-05-30T13:28:14.572400Z"
    }
   },
   "outputs": [],
   "source": [
    "def plot_DG(data_generator):\n",
    "    counter = Counter(data_generator.classes)\n",
    "    data_items = counter.items()\n",
    "    l = list(counter.items())\n",
    "    print(l)\n",
    "    \n",
    "    plt.bar(range(len(l)), [val[1] for val in l], align='center')\n",
    "    plt.xticks(range(len(l)), [val[0] for val in l])\n",
    "    plt.xticks(rotation=70)\n",
    "    plt.show()"
   ]
  },
  {
   "cell_type": "code",
   "execution_count": 11,
   "metadata": {
    "execution": {
     "iopub.execute_input": "2022-05-30T13:28:14.606630Z",
     "iopub.status.busy": "2022-05-30T13:28:14.605627Z",
     "iopub.status.idle": "2022-05-30T13:28:14.613396Z",
     "shell.execute_reply": "2022-05-30T13:28:14.612462Z",
     "shell.execute_reply.started": "2022-05-30T13:28:14.606584Z"
    }
   },
   "outputs": [],
   "source": [
    "def getClassWeights(train_dataset):\n",
    "    \n",
    "    counter = Counter(train_dataset.classes)                          \n",
    "    max_val = float(max(counter.values()))       \n",
    "    class_weights = {class_id : max_val/num_images for class_id, num_images in counter.items()}    \n",
    "    print(class_weights)\n",
    "\n",
    "    return class_weights"
   ]
  },
  {
   "cell_type": "code",
   "execution_count": 12,
   "metadata": {
    "execution": {
     "iopub.execute_input": "2022-05-30T13:28:14.634973Z",
     "iopub.status.busy": "2022-05-30T13:28:14.634201Z",
     "iopub.status.idle": "2022-05-30T13:28:14.640101Z",
     "shell.execute_reply": "2022-05-30T13:28:14.638920Z",
     "shell.execute_reply.started": "2022-05-30T13:28:14.634938Z"
    }
   },
   "outputs": [],
   "source": [
    "def plotModel(model):\n",
    "    \n",
    "    plot_model(model, to_file='convnet.png', show_shapes=True,show_layer_names=True)\n",
    "    Image(filename='convnet.png')"
   ]
  },
  {
   "cell_type": "code",
   "execution_count": 9,
   "metadata": {
    "execution": {
     "iopub.execute_input": "2022-05-30T13:28:14.538557Z",
     "iopub.status.busy": "2022-05-30T13:28:14.537979Z",
     "iopub.status.idle": "2022-05-30T13:28:14.547756Z",
     "shell.execute_reply": "2022-05-30T13:28:14.546685Z",
     "shell.execute_reply.started": "2022-05-30T13:28:14.538522Z"
    }
   },
   "outputs": [],
   "source": [
    "def updateBaseModel(base_model, num_classes):\n",
    "    \n",
    "    for layer in base_model.layers[:]:\n",
    "        layer.trainable=True\n",
    "    \n",
    "    model=Sequential()\n",
    "    model.add(base_model)\n",
    "    model.add(Dropout(0.5))\n",
    "    model.add(Flatten())\n",
    "    model.add(BatchNormalization())\n",
    "    model.add(Dense(32,kernel_initializer='he_uniform'))\n",
    "    model.add(BatchNormalization())\n",
    "    model.add(Activation('relu'))\n",
    "    model.add(Dropout(0.5))\n",
    "    model.add(Dense(32,kernel_initializer='he_uniform'))\n",
    "    model.add(BatchNormalization())\n",
    "    model.add(Activation('relu'))\n",
    "    model.add(Dropout(0.5))\n",
    "    model.add(Dense(32,kernel_initializer='he_uniform'))\n",
    "    model.add(BatchNormalization())\n",
    "    model.add(Activation('relu'))\n",
    "    model.add(Dense(num_classes, activation='softmax'))\n",
    "\n",
    "    return model"
   ]
  },
  {
   "cell_type": "code",
   "execution_count": 13,
   "metadata": {
    "execution": {
     "iopub.execute_input": "2022-05-30T13:28:14.662761Z",
     "iopub.status.busy": "2022-05-30T13:28:14.662069Z",
     "iopub.status.idle": "2022-05-30T13:28:14.670720Z",
     "shell.execute_reply": "2022-05-30T13:28:14.669441Z",
     "shell.execute_reply.started": "2022-05-30T13:28:14.662727Z"
    }
   },
   "outputs": [],
   "source": [
    "def ForTraining(model, save_h5_to_path, epochs_):\n",
    "    \n",
    "    lrd = ReduceLROnPlateau(\n",
    "        monitor='val_accuracy',\n",
    "        factor=0.5,\n",
    "        patience=7,\n",
    "        min_lr=1e-7,\n",
    "        verbose=1\n",
    "    )\n",
    "\n",
    "    mcp_5categories = ModelCheckpoint(save_h5_to_path)\n",
    "\n",
    "    es = EarlyStopping(\n",
    "        monitor='val_accuracy',\n",
    "        min_delta=0.00005,\n",
    "        patience=10,\n",
    "        verbose=1,\n",
    "        restore_best_weights=True\n",
    "    )\n",
    "\n",
    "    t_epochs = epochs_\n",
    "\n",
    "    optim = optimizers.Adam(learning_rate=1e-3, decay=1e-3 / t_epochs)\n",
    "    model.compile(optimizer=optim, loss='categorical_crossentropy',metrics=METRICS)\n",
    "    model.summary()\n",
    "\n",
    "    return lrd, mcp_5categories, es, t_epochs, model, t_epochs"
   ]
  },
  {
   "cell_type": "code",
   "execution_count": 6,
   "metadata": {
    "execution": {
     "iopub.execute_input": "2022-05-30T13:28:14.403117Z",
     "iopub.status.busy": "2022-05-30T13:28:14.402371Z",
     "iopub.status.idle": "2022-05-30T13:28:14.433928Z",
     "shell.execute_reply": "2022-05-30T13:28:14.433053Z",
     "shell.execute_reply.started": "2022-05-30T13:28:14.403066Z"
    }
   },
   "outputs": [],
   "source": [
    "METRICS = [\n",
    "      tf.keras.metrics.BinaryAccuracy(name='accuracy'),\n",
    "      tf.keras.metrics.BinaryAccuracy(name='loss')\n",
    "]"
   ]
  },
  {
   "cell_type": "markdown",
   "metadata": {},
   "source": [
    "# Prepare Model"
   ]
  },
  {
   "cell_type": "code",
   "execution_count": 15,
   "metadata": {
    "execution": {
     "iopub.execute_input": "2022-05-30T13:28:14.724847Z",
     "iopub.status.busy": "2022-05-30T13:28:14.724512Z",
     "iopub.status.idle": "2022-05-30T13:28:18.729184Z",
     "shell.execute_reply": "2022-05-30T13:28:18.728223Z",
     "shell.execute_reply.started": "2022-05-30T13:28:14.724817Z"
    }
   },
   "outputs": [
    {
     "name": "stdout",
     "output_type": "stream",
     "text": [
      "Found 18603 images belonging to 7 classes.\n",
      "Found 4648 images belonging to 7 classes.\n",
      "Found 23251 images belonging to 7 classes.\n",
      "{0: 1.0184766214177978, 1: 1.0025983667409057, 2: 1.0089652596189764, 3: 1.012368815592204, 4: 1.0, 5: 1.057556773688332, 6: 1.0165600301091458}\n",
      "[(0, 2652), (1, 2694), (2, 2677), (3, 2668), (4, 2701), (5, 2554), (6, 2657)]\n"
     ]
    },
    {
     "data": {
      "image/png": "[encoded data removed]",
      "text/plain": [
       "<Figure size 640x480 with 1 Axes>"
      ]
     },
     "metadata": {},
     "output_type": "display_data"
    },
    {
     "name": "stderr",
     "output_type": "stream",
     "text": [
      "C:\\Users\\RonN\\AppData\\Local\\Temp\\ipykernel_23036\\3508903782.py:16: UserWarning: `input_shape` is undefined or non-square, or `rows` is not in [128, 160, 192, 224]. Weights for input shape (224, 224) will be loaded as the default.\n",
      "  base_model = tf.keras.applications.MobileNet(input_shape=(48,48,3),include_top=False,weights=\"imagenet\")\n",
      "C:\\Users\\RonN\\anaconda3\\lib\\site-packages\\keras\\src\\optimizers\\base_optimizer.py:33: UserWarning: Argument `decay` is no longer supported and will be ignored.\n",
      "  warnings.warn(\n"
     ]
    },
    {
     "data": {
      "text/html": [
       "<pre style=\"white-space:pre;overflow-x:auto;line-height:normal;font-family:Menlo,'DejaVu Sans Mono',consolas,'Courier New',monospace\"><span style=\"font-weight: bold\">Model: \"sequential\"</span>\n",
       "</pre>\n"
      ],
      "text/plain": [
       "\u001b[1mModel: \"sequential\"\u001b[0m\n"
      ]
     },
     "metadata": {},
     "output_type": "display_data"
    },
    {
     "data": {
      "text/html": [
       "<pre style=\"white-space:pre;overflow-x:auto;line-height:normal;font-family:Menlo,'DejaVu Sans Mono',consolas,'Courier New',monospace\">┏━━━━━━━━━━━━━━━━━━━━━━━━━━━━━━━━━━━━━━┳━━━━━━━━━━━━━━━━━━━━━━━━━━━━━┳━━━━━━━━━━━━━━━━━┓\n",
       "┃<span style=\"font-weight: bold\"> Layer (type)                         </span>┃<span style=\"font-weight: bold\"> Output Shape                </span>┃<span style=\"font-weight: bold\">         Param # </span>┃\n",
       "┡━━━━━━━━━━━━━━━━━━━━━━━━━━━━━━━━━━━━━━╇━━━━━━━━━━━━━━━━━━━━━━━━━━━━━╇━━━━━━━━━━━━━━━━━┩\n",
       "│ mobilenet_1.00_224 (<span style=\"color: #0087ff; text-decoration-color: #0087ff\">Functional</span>)      │ ?                           │       <span style=\"color: #00af00; text-decoration-color: #00af00\">3,228,864</span> │\n",
       "├──────────────────────────────────────┼─────────────────────────────┼─────────────────┤\n",
       "│ dropout (<span style=\"color: #0087ff; text-decoration-color: #0087ff\">Dropout</span>)                    │ ?                           │     <span style=\"color: #00af00; text-decoration-color: #00af00\">0</span> (unbuilt) │\n",
       "├──────────────────────────────────────┼─────────────────────────────┼─────────────────┤\n",
       "│ flatten (<span style=\"color: #0087ff; text-decoration-color: #0087ff\">Flatten</span>)                    │ ?                           │     <span style=\"color: #00af00; text-decoration-color: #00af00\">0</span> (unbuilt) │\n",
       "├──────────────────────────────────────┼─────────────────────────────┼─────────────────┤\n",
       "│ batch_normalization                  │ ?                           │     <span style=\"color: #00af00; text-decoration-color: #00af00\">0</span> (unbuilt) │\n",
       "│ (<span style=\"color: #0087ff; text-decoration-color: #0087ff\">BatchNormalization</span>)                 │                             │                 │\n",
       "├──────────────────────────────────────┼─────────────────────────────┼─────────────────┤\n",
       "│ dense (<span style=\"color: #0087ff; text-decoration-color: #0087ff\">Dense</span>)                        │ ?                           │     <span style=\"color: #00af00; text-decoration-color: #00af00\">0</span> (unbuilt) │\n",
       "├──────────────────────────────────────┼─────────────────────────────┼─────────────────┤\n",
       "│ batch_normalization_1                │ ?                           │     <span style=\"color: #00af00; text-decoration-color: #00af00\">0</span> (unbuilt) │\n",
       "│ (<span style=\"color: #0087ff; text-decoration-color: #0087ff\">BatchNormalization</span>)                 │                             │                 │\n",
       "├──────────────────────────────────────┼─────────────────────────────┼─────────────────┤\n",
       "│ activation (<span style=\"color: #0087ff; text-decoration-color: #0087ff\">Activation</span>)              │ ?                           │     <span style=\"color: #00af00; text-decoration-color: #00af00\">0</span> (unbuilt) │\n",
       "├──────────────────────────────────────┼─────────────────────────────┼─────────────────┤\n",
       "│ dropout_1 (<span style=\"color: #0087ff; text-decoration-color: #0087ff\">Dropout</span>)                  │ ?                           │     <span style=\"color: #00af00; text-decoration-color: #00af00\">0</span> (unbuilt) │\n",
       "├──────────────────────────────────────┼─────────────────────────────┼─────────────────┤\n",
       "│ dense_1 (<span style=\"color: #0087ff; text-decoration-color: #0087ff\">Dense</span>)                      │ ?                           │     <span style=\"color: #00af00; text-decoration-color: #00af00\">0</span> (unbuilt) │\n",
       "├──────────────────────────────────────┼─────────────────────────────┼─────────────────┤\n",
       "│ batch_normalization_2                │ ?                           │     <span style=\"color: #00af00; text-decoration-color: #00af00\">0</span> (unbuilt) │\n",
       "│ (<span style=\"color: #0087ff; text-decoration-color: #0087ff\">BatchNormalization</span>)                 │                             │                 │\n",
       "├──────────────────────────────────────┼─────────────────────────────┼─────────────────┤\n",
       "│ activation_1 (<span style=\"color: #0087ff; text-decoration-color: #0087ff\">Activation</span>)            │ ?                           │     <span style=\"color: #00af00; text-decoration-color: #00af00\">0</span> (unbuilt) │\n",
       "├──────────────────────────────────────┼─────────────────────────────┼─────────────────┤\n",
       "│ dropout_2 (<span style=\"color: #0087ff; text-decoration-color: #0087ff\">Dropout</span>)                  │ ?                           │     <span style=\"color: #00af00; text-decoration-color: #00af00\">0</span> (unbuilt) │\n",
       "├──────────────────────────────────────┼─────────────────────────────┼─────────────────┤\n",
       "│ dense_2 (<span style=\"color: #0087ff; text-decoration-color: #0087ff\">Dense</span>)                      │ ?                           │     <span style=\"color: #00af00; text-decoration-color: #00af00\">0</span> (unbuilt) │\n",
       "├──────────────────────────────────────┼─────────────────────────────┼─────────────────┤\n",
       "│ batch_normalization_3                │ ?                           │     <span style=\"color: #00af00; text-decoration-color: #00af00\">0</span> (unbuilt) │\n",
       "│ (<span style=\"color: #0087ff; text-decoration-color: #0087ff\">BatchNormalization</span>)                 │                             │                 │\n",
       "├──────────────────────────────────────┼─────────────────────────────┼─────────────────┤\n",
       "│ activation_2 (<span style=\"color: #0087ff; text-decoration-color: #0087ff\">Activation</span>)            │ ?                           │     <span style=\"color: #00af00; text-decoration-color: #00af00\">0</span> (unbuilt) │\n",
       "├──────────────────────────────────────┼─────────────────────────────┼─────────────────┤\n",
       "│ dense_3 (<span style=\"color: #0087ff; text-decoration-color: #0087ff\">Dense</span>)                      │ ?                           │     <span style=\"color: #00af00; text-decoration-color: #00af00\">0</span> (unbuilt) │\n",
       "└──────────────────────────────────────┴─────────────────────────────┴─────────────────┘\n",
       "</pre>\n"
      ],
      "text/plain": [
       "┏━━━━━━━━━━━━━━━━━━━━━━━━━━━━━━━━━━━━━━┳━━━━━━━━━━━━━━━━━━━━━━━━━━━━━┳━━━━━━━━━━━━━━━━━┓\n",
       "┃\u001b[1m \u001b[0m\u001b[1mLayer (type)                        \u001b[0m\u001b[1m \u001b[0m┃\u001b[1m \u001b[0m\u001b[1mOutput Shape               \u001b[0m\u001b[1m \u001b[0m┃\u001b[1m \u001b[0m\u001b[1m        Param #\u001b[0m\u001b[1m \u001b[0m┃\n",
       "┡━━━━━━━━━━━━━━━━━━━━━━━━━━━━━━━━━━━━━━╇━━━━━━━━━━━━━━━━━━━━━━━━━━━━━╇━━━━━━━━━━━━━━━━━┩\n",
       "│ mobilenet_1.00_224 (\u001b[38;5;33mFunctional\u001b[0m)      │ ?                           │       \u001b[38;5;34m3,228,864\u001b[0m │\n",
       "├──────────────────────────────────────┼─────────────────────────────┼─────────────────┤\n",
       "│ dropout (\u001b[38;5;33mDropout\u001b[0m)                    │ ?                           │     \u001b[38;5;34m0\u001b[0m (unbuilt) │\n",
       "├──────────────────────────────────────┼─────────────────────────────┼─────────────────┤\n",
       "│ flatten (\u001b[38;5;33mFlatten\u001b[0m)                    │ ?                           │     \u001b[38;5;34m0\u001b[0m (unbuilt) │\n",
       "├──────────────────────────────────────┼─────────────────────────────┼─────────────────┤\n",
       "│ batch_normalization                  │ ?                           │     \u001b[38;5;34m0\u001b[0m (unbuilt) │\n",
       "│ (\u001b[38;5;33mBatchNormalization\u001b[0m)                 │                             │                 │\n",
       "├──────────────────────────────────────┼─────────────────────────────┼─────────────────┤\n",
       "│ dense (\u001b[38;5;33mDense\u001b[0m)                        │ ?                           │     \u001b[38;5;34m0\u001b[0m (unbuilt) │\n",
       "├──────────────────────────────────────┼─────────────────────────────┼─────────────────┤\n",
       "│ batch_normalization_1                │ ?                           │     \u001b[38;5;34m0\u001b[0m (unbuilt) │\n",
       "│ (\u001b[38;5;33mBatchNormalization\u001b[0m)                 │                             │                 │\n",
       "├──────────────────────────────────────┼─────────────────────────────┼─────────────────┤\n",
       "│ activation (\u001b[38;5;33mActivation\u001b[0m)              │ ?                           │     \u001b[38;5;34m0\u001b[0m (unbuilt) │\n",
       "├──────────────────────────────────────┼─────────────────────────────┼─────────────────┤\n",
       "│ dropout_1 (\u001b[38;5;33mDropout\u001b[0m)                  │ ?                           │     \u001b[38;5;34m0\u001b[0m (unbuilt) │\n",
       "├──────────────────────────────────────┼─────────────────────────────┼─────────────────┤\n",
       "│ dense_1 (\u001b[38;5;33mDense\u001b[0m)                      │ ?                           │     \u001b[38;5;34m0\u001b[0m (unbuilt) │\n",
       "├──────────────────────────────────────┼─────────────────────────────┼─────────────────┤\n",
       "│ batch_normalization_2                │ ?                           │     \u001b[38;5;34m0\u001b[0m (unbuilt) │\n",
       "│ (\u001b[38;5;33mBatchNormalization\u001b[0m)                 │                             │                 │\n",
       "├──────────────────────────────────────┼─────────────────────────────┼─────────────────┤\n",
       "│ activation_1 (\u001b[38;5;33mActivation\u001b[0m)            │ ?                           │     \u001b[38;5;34m0\u001b[0m (unbuilt) │\n",
       "├──────────────────────────────────────┼─────────────────────────────┼─────────────────┤\n",
       "│ dropout_2 (\u001b[38;5;33mDropout\u001b[0m)                  │ ?                           │     \u001b[38;5;34m0\u001b[0m (unbuilt) │\n",
       "├──────────────────────────────────────┼─────────────────────────────┼─────────────────┤\n",
       "│ dense_2 (\u001b[38;5;33mDense\u001b[0m)                      │ ?                           │     \u001b[38;5;34m0\u001b[0m (unbuilt) │\n",
       "├──────────────────────────────────────┼─────────────────────────────┼─────────────────┤\n",
       "│ batch_normalization_3                │ ?                           │     \u001b[38;5;34m0\u001b[0m (unbuilt) │\n",
       "│ (\u001b[38;5;33mBatchNormalization\u001b[0m)                 │                             │                 │\n",
       "├──────────────────────────────────────┼─────────────────────────────┼─────────────────┤\n",
       "│ activation_2 (\u001b[38;5;33mActivation\u001b[0m)            │ ?                           │     \u001b[38;5;34m0\u001b[0m (unbuilt) │\n",
       "├──────────────────────────────────────┼─────────────────────────────┼─────────────────┤\n",
       "│ dense_3 (\u001b[38;5;33mDense\u001b[0m)                      │ ?                           │     \u001b[38;5;34m0\u001b[0m (unbuilt) │\n",
       "└──────────────────────────────────────┴─────────────────────────────┴─────────────────┘\n"
      ]
     },
     "metadata": {},
     "output_type": "display_data"
    },
    {
     "data": {
      "text/html": [
       "<pre style=\"white-space:pre;overflow-x:auto;line-height:normal;font-family:Menlo,'DejaVu Sans Mono',consolas,'Courier New',monospace\"><span style=\"font-weight: bold\"> Total params: </span><span style=\"color: #00af00; text-decoration-color: #00af00\">3,228,864</span> (12.32 MB)\n",
       "</pre>\n"
      ],
      "text/plain": [
       "\u001b[1m Total params: \u001b[0m\u001b[38;5;34m3,228,864\u001b[0m (12.32 MB)\n"
      ]
     },
     "metadata": {},
     "output_type": "display_data"
    },
    {
     "data": {
      "text/html": [
       "<pre style=\"white-space:pre;overflow-x:auto;line-height:normal;font-family:Menlo,'DejaVu Sans Mono',consolas,'Courier New',monospace\"><span style=\"font-weight: bold\"> Trainable params: </span><span style=\"color: #00af00; text-decoration-color: #00af00\">3,206,976</span> (12.23 MB)\n",
       "</pre>\n"
      ],
      "text/plain": [
       "\u001b[1m Trainable params: \u001b[0m\u001b[38;5;34m3,206,976\u001b[0m (12.23 MB)\n"
      ]
     },
     "metadata": {},
     "output_type": "display_data"
    },
    {
     "data": {
      "text/html": [
       "<pre style=\"white-space:pre;overflow-x:auto;line-height:normal;font-family:Menlo,'DejaVu Sans Mono',consolas,'Courier New',monospace\"><span style=\"font-weight: bold\"> Non-trainable params: </span><span style=\"color: #00af00; text-decoration-color: #00af00\">21,888</span> (85.50 KB)\n",
       "</pre>\n"
      ],
      "text/plain": [
       "\u001b[1m Non-trainable params: \u001b[0m\u001b[38;5;34m21,888\u001b[0m (85.50 KB)\n"
      ]
     },
     "metadata": {},
     "output_type": "display_data"
    }
   ],
   "source": [
    "target_names = ['Anger','Disgust','Fear','Happy','Neutral','Sad','Surprise']\n",
    "num_classes = len(target_names)\n",
    "train_path = 'C:/Users/RonN/Project PK/buat laporan/datasetplus/train'\n",
    "test_path = 'C:/Users/RonN/Project PK/buat laporan/datasetplus/test'\n",
    "save_model_h5_to_path = 'inimodelprojek.h5'\n",
    "epochs = 100\n",
    "\n",
    "train_datagen, valid_datagen, test_datagen = ImgDataGen()\n",
    "train_dataset, valid_dataset, test_dataset = DataSetGen(train_path, test_path, train_datagen, valid_datagen, test_datagen, target_names)\n",
    "class_weights = getClassWeights(train_dataset)\n",
    "plot_DG(train_dataset)\n",
    "\n",
    "base_model = tf.keras.applications.MobileNet(input_shape=(48,48,3),include_top=False,weights=\"imagenet\")\n",
    "\n",
    "model = updateBaseModel(base_model, len(target_names))\n",
    "lrd, mcp_5categories, es, t_epochs, model, t_epochs = ForTraining(model, save_model_h5_to_path, epochs)"
   ]
  },
  {
   "cell_type": "markdown",
   "metadata": {},
   "source": [
    "# Training Model "
   ]
  },
  {
   "cell_type": "code",
   "execution_count": 16,
   "metadata": {
    "execution": {
     "iopub.execute_input": "2022-05-30T13:28:18.733161Z",
     "iopub.status.busy": "2022-05-30T13:28:18.730856Z",
     "iopub.status.idle": "2022-05-30T15:21:32.225069Z",
     "shell.execute_reply": "2022-05-30T15:21:32.224166Z",
     "shell.execute_reply.started": "2022-05-30T13:28:18.733118Z"
    }
   },
   "outputs": [
    {
     "name": "stdout",
     "output_type": "stream",
     "text": [
      "Epoch 1/100\n"
     ]
    },
    {
     "name": "stderr",
     "output_type": "stream",
     "text": [
      "C:\\Users\\RonN\\anaconda3\\lib\\site-packages\\keras\\src\\trainers\\data_adapters\\py_dataset_adapter.py:121: UserWarning: Your `PyDataset` class should call `super().__init__(**kwargs)` in its constructor. `**kwargs` can include `workers`, `use_multiprocessing`, `max_queue_size`. Do not pass these arguments to `fit()`, as they will be ignored.\n",
      "  self._warn_if_super_not_called()\n"
     ]
    },
    {
     "name": "stdout",
     "output_type": "stream",
     "text": [
      "\u001b[1m291/291\u001b[0m \u001b[32m━━━━━━━━━━━━━━━━━━━━\u001b[0m\u001b[37m\u001b[0m \u001b[1m79s\u001b[0m 205ms/step - accuracy: 0.8535 - loss: 2.0683 - val_accuracy: 0.8695 - val_loss: 1.6503 - learning_rate: 0.0010\n",
      "Epoch 2/100\n",
      "\u001b[1m291/291\u001b[0m \u001b[32m━━━━━━━━━━━━━━━━━━━━\u001b[0m\u001b[37m\u001b[0m \u001b[1m59s\u001b[0m 200ms/step - accuracy: 0.8665 - loss: 1.7121 - val_accuracy: 0.8833 - val_loss: 1.2740 - learning_rate: 0.0010\n",
      "Epoch 3/100\n",
      "\u001b[1m291/291\u001b[0m \u001b[32m━━━━━━━━━━━━━━━━━━━━\u001b[0m\u001b[37m\u001b[0m \u001b[1m59s\u001b[0m 200ms/step - accuracy: 0.8766 - loss: 1.4705 - val_accuracy: 0.8853 - val_loss: 1.2910 - learning_rate: 0.0010\n",
      "Epoch 4/100\n",
      "\u001b[1m291/291\u001b[0m \u001b[32m━━━━━━━━━━━━━━━━━━━━\u001b[0m\u001b[37m\u001b[0m \u001b[1m59s\u001b[0m 199ms/step - accuracy: 0.8846 - loss: 1.3410 - val_accuracy: 0.8913 - val_loss: 1.2150 - learning_rate: 0.0010\n",
      "Epoch 5/100\n",
      "\u001b[1m291/291\u001b[0m \u001b[32m━━━━━━━━━━━━━━━━━━━━\u001b[0m\u001b[37m\u001b[0m \u001b[1m60s\u001b[0m 203ms/step - accuracy: 0.8903 - loss: 1.2573 - val_accuracy: 0.8990 - val_loss: 1.1274 - learning_rate: 0.0010\n",
      "Epoch 6/100\n",
      "\u001b[1m291/291\u001b[0m \u001b[32m━━━━━━━━━━━━━━━━━━━━\u001b[0m\u001b[37m\u001b[0m \u001b[1m59s\u001b[0m 201ms/step - accuracy: 0.8918 - loss: 1.2362 - val_accuracy: 0.9113 - val_loss: 0.9027 - learning_rate: 0.0010\n",
      "Epoch 7/100\n",
      "\u001b[1m291/291\u001b[0m \u001b[32m━━━━━━━━━━━━━━━━━━━━\u001b[0m\u001b[37m\u001b[0m \u001b[1m59s\u001b[0m 201ms/step - accuracy: 0.8972 - loss: 1.1687 - val_accuracy: 0.9017 - val_loss: 1.1295 - learning_rate: 0.0010\n",
      "Epoch 8/100\n",
      "\u001b[1m291/291\u001b[0m \u001b[32m━━━━━━━━━━━━━━━━━━━━\u001b[0m\u001b[37m\u001b[0m \u001b[1m59s\u001b[0m 200ms/step - accuracy: 0.8983 - loss: 1.1430 - val_accuracy: 0.9137 - val_loss: 0.9014 - learning_rate: 0.0010\n",
      "Epoch 9/100\n",
      "\u001b[1m291/291\u001b[0m \u001b[32m━━━━━━━━━━━━━━━━━━━━\u001b[0m\u001b[37m\u001b[0m \u001b[1m59s\u001b[0m 200ms/step - accuracy: 0.9011 - loss: 1.1053 - val_accuracy: 0.9166 - val_loss: 0.8788 - learning_rate: 0.0010\n",
      "Epoch 10/100\n",
      "\u001b[1m291/291\u001b[0m \u001b[32m━━━━━━━━━━━━━━━━━━━━\u001b[0m\u001b[37m\u001b[0m \u001b[1m59s\u001b[0m 200ms/step - accuracy: 0.9013 - loss: 1.1014 - val_accuracy: 0.9181 - val_loss: 0.8405 - learning_rate: 0.0010\n",
      "Epoch 11/100\n",
      "\u001b[1m291/291\u001b[0m \u001b[32m━━━━━━━━━━━━━━━━━━━━\u001b[0m\u001b[37m\u001b[0m \u001b[1m59s\u001b[0m 201ms/step - accuracy: 0.9051 - loss: 1.0561 - val_accuracy: 0.9130 - val_loss: 0.9195 - learning_rate: 0.0010\n",
      "Epoch 12/100\n",
      "\u001b[1m291/291\u001b[0m \u001b[32m━━━━━━━━━━━━━━━━━━━━\u001b[0m\u001b[37m\u001b[0m \u001b[1m59s\u001b[0m 200ms/step - accuracy: 0.9062 - loss: 1.0561 - val_accuracy: 0.9153 - val_loss: 0.9233 - learning_rate: 0.0010\n",
      "Epoch 13/100\n",
      "\u001b[1m291/291\u001b[0m \u001b[32m━━━━━━━━━━━━━━━━━━━━\u001b[0m\u001b[37m\u001b[0m \u001b[1m59s\u001b[0m 201ms/step - accuracy: 0.9101 - loss: 1.0101 - val_accuracy: 0.9251 - val_loss: 0.7866 - learning_rate: 0.0010\n",
      "Epoch 14/100\n",
      "\u001b[1m291/291\u001b[0m \u001b[32m━━━━━━━━━━━━━━━━━━━━\u001b[0m\u001b[37m\u001b[0m \u001b[1m59s\u001b[0m 201ms/step - accuracy: 0.9113 - loss: 0.9983 - val_accuracy: 0.9215 - val_loss: 0.8176 - learning_rate: 0.0010\n",
      "Epoch 15/100\n",
      "\u001b[1m291/291\u001b[0m \u001b[32m━━━━━━━━━━━━━━━━━━━━\u001b[0m\u001b[37m\u001b[0m \u001b[1m59s\u001b[0m 200ms/step - accuracy: 0.9118 - loss: 0.9730 - val_accuracy: 0.9159 - val_loss: 0.8669 - learning_rate: 0.0010\n",
      "Epoch 16/100\n",
      "\u001b[1m291/291\u001b[0m \u001b[32m━━━━━━━━━━━━━━━━━━━━\u001b[0m\u001b[37m\u001b[0m \u001b[1m59s\u001b[0m 201ms/step - accuracy: 0.9114 - loss: 0.9839 - val_accuracy: 0.9243 - val_loss: 0.8300 - learning_rate: 0.0010\n",
      "Epoch 17/100\n",
      "\u001b[1m291/291\u001b[0m \u001b[32m━━━━━━━━━━━━━━━━━━━━\u001b[0m\u001b[37m\u001b[0m \u001b[1m64s\u001b[0m 218ms/step - accuracy: 0.9146 - loss: 0.9608 - val_accuracy: 0.9124 - val_loss: 1.0157 - learning_rate: 0.0010\n",
      "Epoch 18/100\n",
      "\u001b[1m291/291\u001b[0m \u001b[32m━━━━━━━━━━━━━━━━━━━━\u001b[0m\u001b[37m\u001b[0m \u001b[1m83s\u001b[0m 283ms/step - accuracy: 0.9145 - loss: 0.9656 - val_accuracy: 0.9291 - val_loss: 0.7590 - learning_rate: 0.0010\n",
      "Epoch 19/100\n",
      "\u001b[1m291/291\u001b[0m \u001b[32m━━━━━━━━━━━━━━━━━━━━\u001b[0m\u001b[37m\u001b[0m \u001b[1m80s\u001b[0m 272ms/step - accuracy: 0.9174 - loss: 0.9203 - val_accuracy: 0.9260 - val_loss: 0.8055 - learning_rate: 0.0010\n",
      "Epoch 20/100\n",
      "\u001b[1m291/291\u001b[0m \u001b[32m━━━━━━━━━━━━━━━━━━━━\u001b[0m\u001b[37m\u001b[0m \u001b[1m69s\u001b[0m 234ms/step - accuracy: 0.9168 - loss: 0.9258 - val_accuracy: 0.9288 - val_loss: 0.7643 - learning_rate: 0.0010\n",
      "Epoch 21/100\n",
      "\u001b[1m291/291\u001b[0m \u001b[32m━━━━━━━━━━━━━━━━━━━━\u001b[0m\u001b[37m\u001b[0m \u001b[1m59s\u001b[0m 201ms/step - accuracy: 0.9196 - loss: 0.9032 - val_accuracy: 0.9284 - val_loss: 0.8010 - learning_rate: 0.0010\n",
      "Epoch 22/100\n",
      "\u001b[1m291/291\u001b[0m \u001b[32m━━━━━━━━━━━━━━━━━━━━\u001b[0m\u001b[37m\u001b[0m \u001b[1m59s\u001b[0m 201ms/step - accuracy: 0.9186 - loss: 0.9192 - val_accuracy: 0.9274 - val_loss: 0.8007 - learning_rate: 0.0010\n",
      "Epoch 23/100\n",
      "\u001b[1m291/291\u001b[0m \u001b[32m━━━━━━━━━━━━━━━━━━━━\u001b[0m\u001b[37m\u001b[0m \u001b[1m59s\u001b[0m 201ms/step - accuracy: 0.9209 - loss: 0.8946 - val_accuracy: 0.9230 - val_loss: 0.8498 - learning_rate: 0.0010\n",
      "Epoch 24/100\n",
      "\u001b[1m291/291\u001b[0m \u001b[32m━━━━━━━━━━━━━━━━━━━━\u001b[0m\u001b[37m\u001b[0m \u001b[1m59s\u001b[0m 200ms/step - accuracy: 0.9201 - loss: 0.9160 - val_accuracy: 0.9371 - val_loss: 0.7051 - learning_rate: 0.0010\n",
      "Epoch 25/100\n",
      "\u001b[1m291/291\u001b[0m \u001b[32m━━━━━━━━━━━━━━━━━━━━\u001b[0m\u001b[37m\u001b[0m \u001b[1m59s\u001b[0m 201ms/step - accuracy: 0.9234 - loss: 0.8707 - val_accuracy: 0.9314 - val_loss: 0.7751 - learning_rate: 0.0010\n",
      "Epoch 26/100\n",
      "\u001b[1m291/291\u001b[0m \u001b[32m━━━━━━━━━━━━━━━━━━━━\u001b[0m\u001b[37m\u001b[0m \u001b[1m59s\u001b[0m 200ms/step - accuracy: 0.9242 - loss: 0.8641 - val_accuracy: 0.9366 - val_loss: 0.7002 - learning_rate: 0.0010\n",
      "Epoch 27/100\n",
      "\u001b[1m291/291\u001b[0m \u001b[32m━━━━━━━━━━━━━━━━━━━━\u001b[0m\u001b[37m\u001b[0m \u001b[1m59s\u001b[0m 201ms/step - accuracy: 0.9266 - loss: 0.8404 - val_accuracy: 0.9363 - val_loss: 0.7040 - learning_rate: 0.0010\n",
      "Epoch 28/100\n",
      "\u001b[1m291/291\u001b[0m \u001b[32m━━━━━━━━━━━━━━━━━━━━\u001b[0m\u001b[37m\u001b[0m \u001b[1m59s\u001b[0m 200ms/step - accuracy: 0.9243 - loss: 0.8580 - val_accuracy: 0.9317 - val_loss: 0.7660 - learning_rate: 0.0010\n",
      "Epoch 29/100\n",
      "\u001b[1m291/291\u001b[0m \u001b[32m━━━━━━━━━━━━━━━━━━━━\u001b[0m\u001b[37m\u001b[0m \u001b[1m59s\u001b[0m 201ms/step - accuracy: 0.9276 - loss: 0.8481 - val_accuracy: 0.9375 - val_loss: 0.7033 - learning_rate: 0.0010\n",
      "Epoch 30/100\n",
      "\u001b[1m291/291\u001b[0m \u001b[32m━━━━━━━━━━━━━━━━━━━━\u001b[0m\u001b[37m\u001b[0m \u001b[1m59s\u001b[0m 201ms/step - accuracy: 0.9302 - loss: 0.8128 - val_accuracy: 0.9315 - val_loss: 0.7743 - learning_rate: 0.0010\n",
      "Epoch 31/100\n",
      "\u001b[1m291/291\u001b[0m \u001b[32m━━━━━━━━━━━━━━━━━━━━\u001b[0m\u001b[37m\u001b[0m \u001b[1m59s\u001b[0m 201ms/step - accuracy: 0.9278 - loss: 0.8172 - val_accuracy: 0.9402 - val_loss: 0.6540 - learning_rate: 0.0010\n",
      "Epoch 32/100\n",
      "\u001b[1m291/291\u001b[0m \u001b[32m━━━━━━━━━━━━━━━━━━━━\u001b[0m\u001b[37m\u001b[0m \u001b[1m59s\u001b[0m 200ms/step - accuracy: 0.9300 - loss: 0.8001 - val_accuracy: 0.9365 - val_loss: 0.6895 - learning_rate: 0.0010\n",
      "Epoch 33/100\n",
      "\u001b[1m291/291\u001b[0m \u001b[32m━━━━━━━━━━━━━━━━━━━━\u001b[0m\u001b[37m\u001b[0m \u001b[1m59s\u001b[0m 201ms/step - accuracy: 0.9298 - loss: 0.8007 - val_accuracy: 0.9384 - val_loss: 0.6921 - learning_rate: 0.0010\n",
      "Epoch 34/100\n",
      "\u001b[1m291/291\u001b[0m \u001b[32m━━━━━━━━━━━━━━━━━━━━\u001b[0m\u001b[37m\u001b[0m \u001b[1m59s\u001b[0m 201ms/step - accuracy: 0.9302 - loss: 0.8106 - val_accuracy: 0.9415 - val_loss: 0.6455 - learning_rate: 0.0010\n",
      "Epoch 35/100\n",
      "\u001b[1m291/291\u001b[0m \u001b[32m━━━━━━━━━━━━━━━━━━━━\u001b[0m\u001b[37m\u001b[0m \u001b[1m59s\u001b[0m 202ms/step - accuracy: 0.9319 - loss: 0.7750 - val_accuracy: 0.9234 - val_loss: 0.9172 - learning_rate: 0.0010\n",
      "Epoch 36/100\n",
      "\u001b[1m291/291\u001b[0m \u001b[32m━━━━━━━━━━━━━━━━━━━━\u001b[0m\u001b[37m\u001b[0m \u001b[1m59s\u001b[0m 202ms/step - accuracy: 0.9322 - loss: 0.7747 - val_accuracy: 0.9357 - val_loss: 0.7257 - learning_rate: 0.0010\n",
      "Epoch 37/100\n",
      "\u001b[1m291/291\u001b[0m \u001b[32m━━━━━━━━━━━━━━━━━━━━\u001b[0m\u001b[37m\u001b[0m \u001b[1m59s\u001b[0m 201ms/step - accuracy: 0.9329 - loss: 0.7747 - val_accuracy: 0.9415 - val_loss: 0.6523 - learning_rate: 0.0010\n",
      "Epoch 38/100\n",
      "\u001b[1m291/291\u001b[0m \u001b[32m━━━━━━━━━━━━━━━━━━━━\u001b[0m\u001b[37m\u001b[0m \u001b[1m59s\u001b[0m 201ms/step - accuracy: 0.9357 - loss: 0.7413 - val_accuracy: 0.9406 - val_loss: 0.6632 - learning_rate: 0.0010\n",
      "Epoch 39/100\n",
      "\u001b[1m291/291\u001b[0m \u001b[32m━━━━━━━━━━━━━━━━━━━━\u001b[0m\u001b[37m\u001b[0m \u001b[1m59s\u001b[0m 201ms/step - accuracy: 0.9347 - loss: 0.7614 - val_accuracy: 0.9407 - val_loss: 0.6719 - learning_rate: 0.0010\n",
      "Epoch 40/100\n",
      "\u001b[1m291/291\u001b[0m \u001b[32m━━━━━━━━━━━━━━━━━━━━\u001b[0m\u001b[37m\u001b[0m \u001b[1m59s\u001b[0m 202ms/step - accuracy: 0.9370 - loss: 0.7175 - val_accuracy: 0.9374 - val_loss: 0.6885 - learning_rate: 0.0010\n",
      "Epoch 41/100\n",
      "\u001b[1m291/291\u001b[0m \u001b[32m━━━━━━━━━━━━━━━━━━━━\u001b[0m\u001b[37m\u001b[0m \u001b[1m0s\u001b[0m 179ms/step - accuracy: 0.9381 - loss: 0.7347\n",
      "Epoch 41: ReduceLROnPlateau reducing learning rate to 0.0005000000237487257.\n",
      "\u001b[1m291/291\u001b[0m \u001b[32m━━━━━━━━━━━━━━━━━━━━\u001b[0m\u001b[37m\u001b[0m \u001b[1m59s\u001b[0m 202ms/step - accuracy: 0.9381 - loss: 0.7348 - val_accuracy: 0.9367 - val_loss: 0.7022 - learning_rate: 0.0010\n",
      "Epoch 42/100\n",
      "\u001b[1m291/291\u001b[0m \u001b[32m━━━━━━━━━━━━━━━━━━━━\u001b[0m\u001b[37m\u001b[0m \u001b[1m59s\u001b[0m 202ms/step - accuracy: 0.9397 - loss: 0.7001 - val_accuracy: 0.9483 - val_loss: 0.5820 - learning_rate: 5.0000e-04\n"
     ]
    },
    {
     "name": "stdout",
     "output_type": "stream",
     "text": [
      "Epoch 43/100\n",
      "\u001b[1m291/291\u001b[0m \u001b[32m━━━━━━━━━━━━━━━━━━━━\u001b[0m\u001b[37m\u001b[0m \u001b[1m59s\u001b[0m 201ms/step - accuracy: 0.9426 - loss: 0.6708 - val_accuracy: 0.9471 - val_loss: 0.5977 - learning_rate: 5.0000e-04\n",
      "Epoch 44/100\n",
      "\u001b[1m291/291\u001b[0m \u001b[32m━━━━━━━━━━━━━━━━━━━━\u001b[0m\u001b[37m\u001b[0m \u001b[1m59s\u001b[0m 201ms/step - accuracy: 0.9436 - loss: 0.6475 - val_accuracy: 0.9491 - val_loss: 0.5570 - learning_rate: 5.0000e-04\n",
      "Epoch 45/100\n",
      "\u001b[1m291/291\u001b[0m \u001b[32m━━━━━━━━━━━━━━━━━━━━\u001b[0m\u001b[37m\u001b[0m \u001b[1m59s\u001b[0m 200ms/step - accuracy: 0.9439 - loss: 0.6374 - val_accuracy: 0.9498 - val_loss: 0.5461 - learning_rate: 5.0000e-04\n",
      "Epoch 46/100\n",
      "\u001b[1m291/291\u001b[0m \u001b[32m━━━━━━━━━━━━━━━━━━━━\u001b[0m\u001b[37m\u001b[0m \u001b[1m59s\u001b[0m 200ms/step - accuracy: 0.9448 - loss: 0.6449 - val_accuracy: 0.9477 - val_loss: 0.5760 - learning_rate: 5.0000e-04\n",
      "Epoch 47/100\n",
      "\u001b[1m291/291\u001b[0m \u001b[32m━━━━━━━━━━━━━━━━━━━━\u001b[0m\u001b[37m\u001b[0m \u001b[1m59s\u001b[0m 201ms/step - accuracy: 0.9449 - loss: 0.6331 - val_accuracy: 0.9435 - val_loss: 0.6221 - learning_rate: 5.0000e-04\n",
      "Epoch 48/100\n",
      "\u001b[1m291/291\u001b[0m \u001b[32m━━━━━━━━━━━━━━━━━━━━\u001b[0m\u001b[37m\u001b[0m \u001b[1m59s\u001b[0m 200ms/step - accuracy: 0.9455 - loss: 0.6212 - val_accuracy: 0.9496 - val_loss: 0.5700 - learning_rate: 5.0000e-04\n",
      "Epoch 49/100\n",
      "\u001b[1m291/291\u001b[0m \u001b[32m━━━━━━━━━━━━━━━━━━━━\u001b[0m\u001b[37m\u001b[0m \u001b[1m59s\u001b[0m 202ms/step - accuracy: 0.9469 - loss: 0.6143 - val_accuracy: 0.9485 - val_loss: 0.5904 - learning_rate: 5.0000e-04\n",
      "Epoch 50/100\n",
      "\u001b[1m291/291\u001b[0m \u001b[32m━━━━━━━━━━━━━━━━━━━━\u001b[0m\u001b[37m\u001b[0m \u001b[1m59s\u001b[0m 201ms/step - accuracy: 0.9462 - loss: 0.6160 - val_accuracy: 0.9498 - val_loss: 0.5618 - learning_rate: 5.0000e-04\n",
      "Epoch 51/100\n",
      "\u001b[1m291/291\u001b[0m \u001b[32m━━━━━━━━━━━━━━━━━━━━\u001b[0m\u001b[37m\u001b[0m \u001b[1m59s\u001b[0m 200ms/step - accuracy: 0.9464 - loss: 0.6080 - val_accuracy: 0.9484 - val_loss: 0.5690 - learning_rate: 5.0000e-04\n",
      "Epoch 52/100\n",
      "\u001b[1m291/291\u001b[0m \u001b[32m━━━━━━━━━━━━━━━━━━━━\u001b[0m\u001b[37m\u001b[0m \u001b[1m0s\u001b[0m 177ms/step - accuracy: 0.9474 - loss: 0.6083\n",
      "Epoch 52: ReduceLROnPlateau reducing learning rate to 0.0002500000118743628.\n",
      "\u001b[1m291/291\u001b[0m \u001b[32m━━━━━━━━━━━━━━━━━━━━\u001b[0m\u001b[37m\u001b[0m \u001b[1m59s\u001b[0m 200ms/step - accuracy: 0.9474 - loss: 0.6083 - val_accuracy: 0.9466 - val_loss: 0.5894 - learning_rate: 5.0000e-04\n",
      "Epoch 53/100\n",
      "\u001b[1m291/291\u001b[0m \u001b[32m━━━━━━━━━━━━━━━━━━━━\u001b[0m\u001b[37m\u001b[0m \u001b[1m59s\u001b[0m 201ms/step - accuracy: 0.9493 - loss: 0.5847 - val_accuracy: 0.9527 - val_loss: 0.5503 - learning_rate: 2.5000e-04\n",
      "Epoch 54/100\n",
      "\u001b[1m291/291\u001b[0m \u001b[32m━━━━━━━━━━━━━━━━━━━━\u001b[0m\u001b[37m\u001b[0m \u001b[1m59s\u001b[0m 201ms/step - accuracy: 0.9500 - loss: 0.5640 - val_accuracy: 0.9527 - val_loss: 0.5417 - learning_rate: 2.5000e-04\n",
      "Epoch 55/100\n",
      "\u001b[1m291/291\u001b[0m \u001b[32m━━━━━━━━━━━━━━━━━━━━\u001b[0m\u001b[37m\u001b[0m \u001b[1m59s\u001b[0m 202ms/step - accuracy: 0.9512 - loss: 0.5698 - val_accuracy: 0.9517 - val_loss: 0.5377 - learning_rate: 2.5000e-04\n",
      "Epoch 56/100\n",
      "\u001b[1m291/291\u001b[0m \u001b[32m━━━━━━━━━━━━━━━━━━━━\u001b[0m\u001b[37m\u001b[0m \u001b[1m59s\u001b[0m 202ms/step - accuracy: 0.9523 - loss: 0.5501 - val_accuracy: 0.9514 - val_loss: 0.5449 - learning_rate: 2.5000e-04\n",
      "Epoch 57/100\n",
      "\u001b[1m291/291\u001b[0m \u001b[32m━━━━━━━━━━━━━━━━━━━━\u001b[0m\u001b[37m\u001b[0m \u001b[1m59s\u001b[0m 200ms/step - accuracy: 0.9533 - loss: 0.5471 - val_accuracy: 0.9518 - val_loss: 0.5477 - learning_rate: 2.5000e-04\n",
      "Epoch 58/100\n",
      "\u001b[1m291/291\u001b[0m \u001b[32m━━━━━━━━━━━━━━━━━━━━\u001b[0m\u001b[37m\u001b[0m \u001b[1m59s\u001b[0m 201ms/step - accuracy: 0.9532 - loss: 0.5349 - val_accuracy: 0.9528 - val_loss: 0.5199 - learning_rate: 2.5000e-04\n",
      "Epoch 59/100\n",
      "\u001b[1m291/291\u001b[0m \u001b[32m━━━━━━━━━━━━━━━━━━━━\u001b[0m\u001b[37m\u001b[0m \u001b[1m59s\u001b[0m 199ms/step - accuracy: 0.9558 - loss: 0.5256 - val_accuracy: 0.9510 - val_loss: 0.5475 - learning_rate: 2.5000e-04\n",
      "Epoch 60/100\n",
      "\u001b[1m291/291\u001b[0m \u001b[32m━━━━━━━━━━━━━━━━━━━━\u001b[0m\u001b[37m\u001b[0m \u001b[1m59s\u001b[0m 201ms/step - accuracy: 0.9545 - loss: 0.5234 - val_accuracy: 0.9544 - val_loss: 0.5152 - learning_rate: 2.5000e-04\n",
      "Epoch 61/100\n",
      "\u001b[1m291/291\u001b[0m \u001b[32m━━━━━━━━━━━━━━━━━━━━\u001b[0m\u001b[37m\u001b[0m \u001b[1m59s\u001b[0m 201ms/step - accuracy: 0.9542 - loss: 0.5276 - val_accuracy: 0.9529 - val_loss: 0.5373 - learning_rate: 2.5000e-04\n",
      "Epoch 62/100\n",
      "\u001b[1m291/291\u001b[0m \u001b[32m━━━━━━━━━━━━━━━━━━━━\u001b[0m\u001b[37m\u001b[0m \u001b[1m59s\u001b[0m 200ms/step - accuracy: 0.9550 - loss: 0.5240 - val_accuracy: 0.9517 - val_loss: 0.5374 - learning_rate: 2.5000e-04\n",
      "Epoch 63/100\n",
      "\u001b[1m291/291\u001b[0m \u001b[32m━━━━━━━━━━━━━━━━━━━━\u001b[0m\u001b[37m\u001b[0m \u001b[1m59s\u001b[0m 200ms/step - accuracy: 0.9536 - loss: 0.5377 - val_accuracy: 0.9526 - val_loss: 0.5313 - learning_rate: 2.5000e-04\n",
      "Epoch 64/100\n",
      "\u001b[1m291/291\u001b[0m \u001b[32m━━━━━━━━━━━━━━━━━━━━\u001b[0m\u001b[37m\u001b[0m \u001b[1m59s\u001b[0m 201ms/step - accuracy: 0.9535 - loss: 0.5365 - val_accuracy: 0.9521 - val_loss: 0.5316 - learning_rate: 2.5000e-04\n",
      "Epoch 65/100\n",
      "\u001b[1m291/291\u001b[0m \u001b[32m━━━━━━━━━━━━━━━━━━━━\u001b[0m\u001b[37m\u001b[0m \u001b[1m59s\u001b[0m 202ms/step - accuracy: 0.9556 - loss: 0.5103 - val_accuracy: 0.9525 - val_loss: 0.5260 - learning_rate: 2.5000e-04\n",
      "Epoch 66/100\n",
      "\u001b[1m291/291\u001b[0m \u001b[32m━━━━━━━━━━━━━━━━━━━━\u001b[0m\u001b[37m\u001b[0m \u001b[1m59s\u001b[0m 202ms/step - accuracy: 0.9559 - loss: 0.5044 - val_accuracy: 0.9521 - val_loss: 0.5371 - learning_rate: 2.5000e-04\n",
      "Epoch 67/100\n",
      "\u001b[1m291/291\u001b[0m \u001b[32m━━━━━━━━━━━━━━━━━━━━\u001b[0m\u001b[37m\u001b[0m \u001b[1m0s\u001b[0m 178ms/step - accuracy: 0.9585 - loss: 0.4863\n",
      "Epoch 67: ReduceLROnPlateau reducing learning rate to 0.0001250000059371814.\n",
      "\u001b[1m291/291\u001b[0m \u001b[32m━━━━━━━━━━━━━━━━━━━━\u001b[0m\u001b[37m\u001b[0m \u001b[1m59s\u001b[0m 201ms/step - accuracy: 0.9585 - loss: 0.4863 - val_accuracy: 0.9517 - val_loss: 0.5395 - learning_rate: 2.5000e-04\n",
      "Epoch 68/100\n",
      "\u001b[1m291/291\u001b[0m \u001b[32m━━━━━━━━━━━━━━━━━━━━\u001b[0m\u001b[37m\u001b[0m \u001b[1m59s\u001b[0m 201ms/step - accuracy: 0.9565 - loss: 0.5001 - val_accuracy: 0.9550 - val_loss: 0.5050 - learning_rate: 1.2500e-04\n",
      "Epoch 69/100\n",
      "\u001b[1m291/291\u001b[0m \u001b[32m━━━━━━━━━━━━━━━━━━━━\u001b[0m\u001b[37m\u001b[0m \u001b[1m59s\u001b[0m 200ms/step - accuracy: 0.9567 - loss: 0.4960 - val_accuracy: 0.9534 - val_loss: 0.5243 - learning_rate: 1.2500e-04\n",
      "Epoch 70/100\n",
      "\u001b[1m291/291\u001b[0m \u001b[32m━━━━━━━━━━━━━━━━━━━━\u001b[0m\u001b[37m\u001b[0m \u001b[1m59s\u001b[0m 200ms/step - accuracy: 0.9588 - loss: 0.4785 - val_accuracy: 0.9540 - val_loss: 0.5295 - learning_rate: 1.2500e-04\n",
      "Epoch 71/100\n",
      "\u001b[1m291/291\u001b[0m \u001b[32m━━━━━━━━━━━━━━━━━━━━\u001b[0m\u001b[37m\u001b[0m \u001b[1m59s\u001b[0m 201ms/step - accuracy: 0.9595 - loss: 0.4773 - val_accuracy: 0.9526 - val_loss: 0.5381 - learning_rate: 1.2500e-04\n",
      "Epoch 72/100\n",
      "\u001b[1m291/291\u001b[0m \u001b[32m━━━━━━━━━━━━━━━━━━━━\u001b[0m\u001b[37m\u001b[0m \u001b[1m59s\u001b[0m 200ms/step - accuracy: 0.9578 - loss: 0.4770 - val_accuracy: 0.9533 - val_loss: 0.5267 - learning_rate: 1.2500e-04\n",
      "Epoch 73/100\n",
      "\u001b[1m291/291\u001b[0m \u001b[32m━━━━━━━━━━━━━━━━━━━━\u001b[0m\u001b[37m\u001b[0m \u001b[1m59s\u001b[0m 202ms/step - accuracy: 0.9583 - loss: 0.4782 - val_accuracy: 0.9553 - val_loss: 0.5102 - learning_rate: 1.2500e-04\n",
      "Epoch 74/100\n",
      "\u001b[1m291/291\u001b[0m \u001b[32m━━━━━━━━━━━━━━━━━━━━\u001b[0m\u001b[37m\u001b[0m \u001b[1m59s\u001b[0m 201ms/step - accuracy: 0.9594 - loss: 0.4771 - val_accuracy: 0.9545 - val_loss: 0.5225 - learning_rate: 1.2500e-04\n",
      "Epoch 75/100\n",
      "\u001b[1m291/291\u001b[0m \u001b[32m━━━━━━━━━━━━━━━━━━━━\u001b[0m\u001b[37m\u001b[0m \u001b[1m59s\u001b[0m 201ms/step - accuracy: 0.9607 - loss: 0.4604 - val_accuracy: 0.9562 - val_loss: 0.5110 - learning_rate: 1.2500e-04\n",
      "Epoch 76/100\n",
      "\u001b[1m291/291\u001b[0m \u001b[32m━━━━━━━━━━━━━━━━━━━━\u001b[0m\u001b[37m\u001b[0m \u001b[1m59s\u001b[0m 201ms/step - accuracy: 0.9582 - loss: 0.4802 - val_accuracy: 0.9533 - val_loss: 0.5321 - learning_rate: 1.2500e-04\n",
      "Epoch 77/100\n",
      "\u001b[1m291/291\u001b[0m \u001b[32m━━━━━━━━━━━━━━━━━━━━\u001b[0m\u001b[37m\u001b[0m \u001b[1m59s\u001b[0m 202ms/step - accuracy: 0.9596 - loss: 0.4645 - val_accuracy: 0.9558 - val_loss: 0.4980 - learning_rate: 1.2500e-04\n",
      "Epoch 78/100\n",
      "\u001b[1m291/291\u001b[0m \u001b[32m━━━━━━━━━━━━━━━━━━━━\u001b[0m\u001b[37m\u001b[0m \u001b[1m59s\u001b[0m 202ms/step - accuracy: 0.9595 - loss: 0.4631 - val_accuracy: 0.9561 - val_loss: 0.5197 - learning_rate: 1.2500e-04\n",
      "Epoch 79/100\n",
      "\u001b[1m291/291\u001b[0m \u001b[32m━━━━━━━━━━━━━━━━━━━━\u001b[0m\u001b[37m\u001b[0m \u001b[1m59s\u001b[0m 201ms/step - accuracy: 0.9590 - loss: 0.4638 - val_accuracy: 0.9548 - val_loss: 0.5309 - learning_rate: 1.2500e-04\n",
      "Epoch 80/100\n",
      "\u001b[1m291/291\u001b[0m \u001b[32m━━━━━━━━━━━━━━━━━━━━\u001b[0m\u001b[37m\u001b[0m \u001b[1m59s\u001b[0m 202ms/step - accuracy: 0.9622 - loss: 0.4486 - val_accuracy: 0.9560 - val_loss: 0.5061 - learning_rate: 1.2500e-04\n",
      "Epoch 81/100\n",
      "\u001b[1m291/291\u001b[0m \u001b[32m━━━━━━━━━━━━━━━━━━━━\u001b[0m\u001b[37m\u001b[0m \u001b[1m59s\u001b[0m 201ms/step - accuracy: 0.9610 - loss: 0.4467 - val_accuracy: 0.9544 - val_loss: 0.5094 - learning_rate: 1.2500e-04\n",
      "Epoch 82/100\n",
      "\u001b[1m291/291\u001b[0m \u001b[32m━━━━━━━━━━━━━━━━━━━━\u001b[0m\u001b[37m\u001b[0m \u001b[1m0s\u001b[0m 178ms/step - accuracy: 0.9624 - loss: 0.4399\n",
      "Epoch 82: ReduceLROnPlateau reducing learning rate to 6.25000029685907e-05.\n",
      "\u001b[1m291/291\u001b[0m \u001b[32m━━━━━━━━━━━━━━━━━━━━\u001b[0m\u001b[37m\u001b[0m \u001b[1m59s\u001b[0m 201ms/step - accuracy: 0.9624 - loss: 0.4400 - val_accuracy: 0.9537 - val_loss: 0.5102 - learning_rate: 1.2500e-04\n"
     ]
    },
    {
     "name": "stdout",
     "output_type": "stream",
     "text": [
      "Epoch 83/100\n",
      "\u001b[1m291/291\u001b[0m \u001b[32m━━━━━━━━━━━━━━━━━━━━\u001b[0m\u001b[37m\u001b[0m \u001b[1m59s\u001b[0m 199ms/step - accuracy: 0.9600 - loss: 0.4612 - val_accuracy: 0.9531 - val_loss: 0.5237 - learning_rate: 6.2500e-05\n",
      "Epoch 84/100\n",
      "\u001b[1m291/291\u001b[0m \u001b[32m━━━━━━━━━━━━━━━━━━━━\u001b[0m\u001b[37m\u001b[0m \u001b[1m59s\u001b[0m 200ms/step - accuracy: 0.9624 - loss: 0.4362 - val_accuracy: 0.9547 - val_loss: 0.5125 - learning_rate: 6.2500e-05\n",
      "Epoch 85/100\n",
      "\u001b[1m291/291\u001b[0m \u001b[32m━━━━━━━━━━━━━━━━━━━━\u001b[0m\u001b[37m\u001b[0m \u001b[1m59s\u001b[0m 200ms/step - accuracy: 0.9610 - loss: 0.4442 - val_accuracy: 0.9547 - val_loss: 0.5141 - learning_rate: 6.2500e-05\n",
      "Epoch 86/100\n",
      "\u001b[1m291/291\u001b[0m \u001b[32m━━━━━━━━━━━━━━━━━━━━\u001b[0m\u001b[37m\u001b[0m \u001b[1m59s\u001b[0m 200ms/step - accuracy: 0.9618 - loss: 0.4473 - val_accuracy: 0.9559 - val_loss: 0.5062 - learning_rate: 6.2500e-05\n",
      "Epoch 86: early stopping\n",
      "Restoring model weights from the end of the best epoch: 75.\n"
     ]
    }
   ],
   "source": [
    "history1 = model.fit(train_dataset,validation_data=valid_dataset,epochs = t_epochs,verbose = 1,callbacks=[lrd,mcp_5categories,es], class_weight=class_weights)"
   ]
  },
  {
   "cell_type": "markdown",
   "metadata": {},
   "source": [
    "# Graph for Accuracy dan Loss"
   ]
  },
  {
   "cell_type": "code",
   "execution_count": 17,
   "metadata": {
    "execution": {
     "iopub.execute_input": "2022-05-30T15:57:54.207299Z",
     "iopub.status.busy": "2022-05-30T15:57:54.206230Z",
     "iopub.status.idle": "2022-05-30T15:57:55.745912Z",
     "shell.execute_reply": "2022-05-30T15:57:55.744968Z",
     "shell.execute_reply.started": "2022-05-30T15:57:54.207244Z"
    }
   },
   "outputs": [
    {
     "data": {
      "image/png": "[encoded data removed]",
      "text/plain": [
       "<Figure size 1200x400 with 2 Axes>"
      ]
     },
     "metadata": {},
     "output_type": "display_data"
    }
   ],
   "source": [
    "def Train_Val_Plot(train_acc, val_acc, train_loss, val_loss):\n",
    "    epochs = range(1, len(train_acc) + 1)\n",
    "    \n",
    "    plt.figure(figsize=(12, 4))\n",
    "\n",
    "    plt.subplot(1, 2, 1)\n",
    "    plt.plot(epochs, train_acc, 'bo-', label='Training accuracy')\n",
    "    plt.plot(epochs, val_acc, 'ro-', label='Validation accuracy')\n",
    "    plt.title('Training and Validation Accuracy')\n",
    "    plt.xlabel('Epochs')\n",
    "    plt.ylabel('Accuracy')\n",
    "    plt.legend()\n",
    "\n",
    "    plt.subplot(1, 2, 2)\n",
    "    plt.plot(epochs, train_loss, 'bo-', label='Training loss')\n",
    "    plt.plot(epochs, val_loss, 'ro-', label='Validation loss')\n",
    "    plt.title('Training and Validation Loss')\n",
    "    plt.xlabel('Epochs')\n",
    "    plt.ylabel('Loss')\n",
    "    plt.legend()\n",
    "\n",
    "    plt.tight_layout()\n",
    "    plt.show()\n",
    "\n",
    "Train_Val_Plot(history1.history['accuracy'], history1.history['val_accuracy'],\n",
    "                history1.history['loss'], history1.history['val_loss'])\n"
   ]
  },
  {
   "cell_type": "code",
   "execution_count": 84,
   "metadata": {},
   "outputs": [
    {
     "name": "stderr",
     "output_type": "stream",
     "text": [
      "WARNING:absl:You are saving your model as an HDF5 file via `model.save()` or `keras.saving.save_model(model)`. This file format is considered legacy. We recommend using instead the native Keras format, e.g. `model.save('my_model.keras')` or `keras.saving.save_model(model, 'my_model.keras')`. \n"
     ]
    }
   ],
   "source": [
    "model.save('inimodelpk.h5')"
   ]
  },
  {
   "cell_type": "code",
   "execution_count": null,
   "metadata": {},
   "outputs": [],
   "source": []
  }
 ],
 "metadata": {
  "kernelspec": {
   "display_name": "Python 3 (ipykernel)",
   "language": "python",
   "name": "python3"
  },
  "language_info": {
   "codemirror_mode": {
    "name": "ipython",
    "version": 3
   },
   "file_extension": ".py",
   "mimetype": "text/x-python",
   "name": "python",
   "nbconvert_exporter": "python",
   "pygments_lexer": "ipython3",
   "version": "3.10.9"
  }
 },
 "nbformat": 4,
 "nbformat_minor": 4
}
